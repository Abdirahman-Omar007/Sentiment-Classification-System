{
 "cells": [
  {
   "cell_type": "markdown",
   "metadata": {},
   "source": [
    "# Apple Twitter Sentiment Analysis"
   ]
  },
  {
   "cell_type": "markdown",
   "metadata": {},
   "source": [
    "## Business Understanding\n",
    "\n",
    "\n",
    "### Overview\n",
    "Apple and Google are two of the biggest technology companies, constantly competing in markets such as smartphones, laptops, cloud services, and operating systems. Customer perception of their products is critical to their success, as sentiment expressed on social media platforms like Twitter can influence brand reputation, stock prices, and customer purchasing decisions.\n",
    "\n",
    "### Business Problem\n",
    "The challenge is to automate the classification of Twitter sentiment regarding Apple and Google products.\n",
    "By developing a sentiment analysis model, businesses can monitor public perception, identify customer concerns, and adjust their marketing or product development strategies accordingly.\n",
    "\n",
    "\n",
    "### Why Machine Learning and Deep Learning?\n",
    "- To build an accurate and scalable sentiment analysis model, we will leverage both traditional machine learning (ML) models and deep learning (DL) techniques.\n",
    "- Each approach has unique strengths, and comparing them will help us determine the most effective method for classifying sentiment in tweets.\n",
    "\n",
    "\n",
    "### Key Stakeholders\n",
    "The primary stakeholders for this project are Apple’s Product, Marketing, and Customer Experience Teams, who rely on customer sentiment analysis to drive strategic decisions. \n",
    "Other relevant stakeholders include:\n",
    "\n",
    "- Marketing & Branding Team: To design targeted campaigns based on sentiment trends and customer feedback.\n",
    "\n",
    "- Product Development Team: To identify product-related concerns, improve features, and enhance user experience based on sentiment insights.\n",
    "\n",
    "- Customer Support Team: To proactively address negative sentiment and improve customer satisfaction by resolving issues efficiently.\n",
    "\n",
    "- Executive Leadership: To make data-driven business decisions regarding Apple’s brand perception, customer engagement, and future innovations.\n",
    "\n",
    "\n",
    "### Success Metrics\n",
    "- Model Performance: The model’s effectiveness will be measured using accuracy, precision, recall, F1-score, and AUC-ROC to ensure reliable sentiment classification.\n",
    "\n",
    "- Business Impact: Improved ability for Apple’s product and marketing teams to track customer sentiment in real-time, leading to better-informed product decisions and marketing strategies.\n",
    "\n",
    "- Scalability & Efficiency: The sentiment analysis system should be able to process large volumes of tweets efficiently, providing real-time insights into customer perception.\n",
    "\n",
    "- Cost-Effectiveness: By automating sentiment analysis, Apple can reduce manual effort, minimize human bias, and make data-driven decisions faster, leading to better customer engagement strategies with optimized marketing and product development investments.\n",
    "\n",
    "### Technologies used\n",
    "- Python-Jupyter notebook\n",
    "- Pandas\n",
    "- Numpy\n",
    "- NLTK\n",
    "- TF- IDF\n",
    "- Word Embeddings (Word2Vec, GloVe)\n",
    "- Scikit-Learn"
   ]
  },
  {
   "cell_type": "markdown",
   "metadata": {},
   "source": [
    "## **Project Overview**  \n",
    "\n",
    "\n",
    "This project focuses on sentiment analysis of Apple-related tweets using the Apple Twitter Sentiment Dataset. The primary goal is to develop an NLP model that classifies tweets into sentiment categories using deep learning techniques like CNNs and RNNs (LSTM/GRU). By analyzing sentiment trends, the project aims to understand public perception of Apple and its products, compare machine learning and deep learning models for sentiment classification, improve classification accuracy through advanced preprocessing and feature engineering techniques, and provide business insights to support marketing strategies, brand management, and product development. The project follows a structured workflow, including data exploration, preprocessing, feature extraction, model training, evaluation, and interpretability, ensuring a robust and reproducible sentiment analysis system.\n",
    "\n",
    "## **Main Objective**  \n",
    "To develop a deep learning-based sentiment classification model for Apple-related tweets using CNNs and RNNs (LSTM/GRU) to analyze public sentiment and trends, compare model performance, and extract actionable business insights.  \n",
    "\n",
    "## **Specific Objectives**  \n",
    "- To understand the dataset structure, including key columns, missing values, and data distribution.  \n",
    "- To identify and preprocess sentiment labels, refining them for better classification.  \n",
    "- To analyze sentiment confidence scores and their distribution across tweets.  \n",
    "- To explore tweet characteristics such as length, common words, and hashtags.  \n",
    "- To compare traditional machine learning models with deep learning approaches to determine the best-performing method.  \n",
    "- To enhance model performance through feature extraction techniques like TF-IDF, data balancing strategies, and hyperparameter tuning.  \n",
    "- To extract sentiment trends related to Apple to support marketing, brand management, and product development decisions.  \n",
    "- To ensure model reproducibility by documenting the process in a Jupyter Notebook, storing code in a GitHub repository, and presenting findings in a non-technical presentation.  "
   ]
  },
  {
   "cell_type": "markdown",
   "metadata": {},
   "source": [
    "## **Data Understanding**\n",
    "The dataset consists of **3886 tweets**, each labeled with sentiment and sentiment confidence scores.\n",
    "\n",
    "### **Sentiment Distribution**\n",
    "- **Neutral (3)**: 2162 tweets (Largest class)\n",
    "- **Negative (1)**: 1219 tweets\n",
    "- **Positive (5)**: 423 tweets\n",
    "- **Not Relevant**: 82 tweets\n",
    "- **Observation**: The dataset is **imbalanced**, with more neutral and negative tweets.\n",
    "\n",
    "### **Sentiment Confidence Scores**\n",
    "- The scores range from **0.3 to 1.0**.\n",
    "- **Peaks at 0.7 and 1.0**, indicating varying label reliability.\n",
    "- **High-confidence labels** can be prioritized for training to improve model accuracy.\n",
    "\n",
    "### **Tweet Length Distribution**\n",
    "- Most tweets are **between 100 and 140 characters**.\n",
    "- A **longer tweet length** trend is observed, likely due to detailed opinions or news articles.\n",
    "\n",
    "### **Handling Missing Values**\n",
    "- `sentiment_gold`: **Missing in 3783 rows**, making it **unusable**.\n",
    "- `_last_judgment_at`: **103 missing values**, but **not critical** for modeling.\n",
    "\n",
    "### **Duplicates**\n",
    "- **No duplicate tweets** found.\n",
    "\n",
    "### **Top Hashtags and Words**\n",
    "- **Top Hashtags**: `#AAPL`, `#Apple`, `#trading`, `#Stocks`, `#iPhone6`.\n",
    "- **Top Words**: \"apple\", \"aapl\", \"http\", \"rt\", indicating **frequent mentions of Apple products, financial discussions, and retweets**."
   ]
  },
  {
   "cell_type": "code",
   "execution_count": 1,
   "metadata": {},
   "outputs": [],
   "source": [
    "import pandas as pd\n",
    "import seaborn as sns\n",
    "import matplotlib.pyplot as plt\n",
    "from collections import Counter  \n",
    "import re "
   ]
  },
  {
   "cell_type": "code",
   "execution_count": 2,
   "metadata": {},
   "outputs": [],
   "source": [
    "# Load the dataset\n",
    "df = pd.read_csv(\"Apple-Twitter-Sentiment-DFE.csv\", encoding=\"ISO-8859-1\")"
   ]
  },
  {
   "cell_type": "code",
   "execution_count": 3,
   "metadata": {},
   "outputs": [
    {
     "data": {
      "text/html": [
       "<div>\n",
       "<style scoped>\n",
       "    .dataframe tbody tr th:only-of-type {\n",
       "        vertical-align: middle;\n",
       "    }\n",
       "\n",
       "    .dataframe tbody tr th {\n",
       "        vertical-align: top;\n",
       "    }\n",
       "\n",
       "    .dataframe thead th {\n",
       "        text-align: right;\n",
       "    }\n",
       "</style>\n",
       "<table border=\"1\" class=\"dataframe\">\n",
       "  <thead>\n",
       "    <tr style=\"text-align: right;\">\n",
       "      <th></th>\n",
       "      <th>_unit_id</th>\n",
       "      <th>_golden</th>\n",
       "      <th>_unit_state</th>\n",
       "      <th>_trusted_judgments</th>\n",
       "      <th>_last_judgment_at</th>\n",
       "      <th>sentiment</th>\n",
       "      <th>sentiment:confidence</th>\n",
       "      <th>date</th>\n",
       "      <th>id</th>\n",
       "      <th>query</th>\n",
       "      <th>sentiment_gold</th>\n",
       "      <th>text</th>\n",
       "    </tr>\n",
       "  </thead>\n",
       "  <tbody>\n",
       "    <tr>\n",
       "      <th>0</th>\n",
       "      <td>623495513</td>\n",
       "      <td>True</td>\n",
       "      <td>golden</td>\n",
       "      <td>10</td>\n",
       "      <td>NaN</td>\n",
       "      <td>3</td>\n",
       "      <td>0.6264</td>\n",
       "      <td>Mon Dec 01 19:30:03 +0000 2014</td>\n",
       "      <td>5.400000e+17</td>\n",
       "      <td>#AAPL OR @Apple</td>\n",
       "      <td>3\\nnot_relevant</td>\n",
       "      <td>#AAPL:The 10 best Steve Jobs emails ever...htt...</td>\n",
       "    </tr>\n",
       "    <tr>\n",
       "      <th>1</th>\n",
       "      <td>623495514</td>\n",
       "      <td>True</td>\n",
       "      <td>golden</td>\n",
       "      <td>12</td>\n",
       "      <td>NaN</td>\n",
       "      <td>3</td>\n",
       "      <td>0.8129</td>\n",
       "      <td>Mon Dec 01 19:43:51 +0000 2014</td>\n",
       "      <td>5.400000e+17</td>\n",
       "      <td>#AAPL OR @Apple</td>\n",
       "      <td>3\\n1</td>\n",
       "      <td>RT @JPDesloges: Why AAPL Stock Had a Mini-Flas...</td>\n",
       "    </tr>\n",
       "    <tr>\n",
       "      <th>2</th>\n",
       "      <td>623495515</td>\n",
       "      <td>True</td>\n",
       "      <td>golden</td>\n",
       "      <td>10</td>\n",
       "      <td>NaN</td>\n",
       "      <td>3</td>\n",
       "      <td>1.0000</td>\n",
       "      <td>Mon Dec 01 19:50:28 +0000 2014</td>\n",
       "      <td>5.400000e+17</td>\n",
       "      <td>#AAPL OR @Apple</td>\n",
       "      <td>3</td>\n",
       "      <td>My cat only chews @apple cords. Such an #Apple...</td>\n",
       "    </tr>\n",
       "    <tr>\n",
       "      <th>3</th>\n",
       "      <td>623495516</td>\n",
       "      <td>True</td>\n",
       "      <td>golden</td>\n",
       "      <td>17</td>\n",
       "      <td>NaN</td>\n",
       "      <td>3</td>\n",
       "      <td>0.5848</td>\n",
       "      <td>Mon Dec 01 20:26:34 +0000 2014</td>\n",
       "      <td>5.400000e+17</td>\n",
       "      <td>#AAPL OR @Apple</td>\n",
       "      <td>3\\n1</td>\n",
       "      <td>I agree with @jimcramer that the #IndividualIn...</td>\n",
       "    </tr>\n",
       "    <tr>\n",
       "      <th>4</th>\n",
       "      <td>623495517</td>\n",
       "      <td>False</td>\n",
       "      <td>finalized</td>\n",
       "      <td>3</td>\n",
       "      <td>12/12/14 12:14</td>\n",
       "      <td>3</td>\n",
       "      <td>0.6474</td>\n",
       "      <td>Mon Dec 01 20:29:33 +0000 2014</td>\n",
       "      <td>5.400000e+17</td>\n",
       "      <td>#AAPL OR @Apple</td>\n",
       "      <td>NaN</td>\n",
       "      <td>Nobody expects the Spanish Inquisition #AAPL</td>\n",
       "    </tr>\n",
       "  </tbody>\n",
       "</table>\n",
       "</div>"
      ],
      "text/plain": [
       "    _unit_id  _golden _unit_state  _trusted_judgments _last_judgment_at  \\\n",
       "0  623495513     True      golden                  10               NaN   \n",
       "1  623495514     True      golden                  12               NaN   \n",
       "2  623495515     True      golden                  10               NaN   \n",
       "3  623495516     True      golden                  17               NaN   \n",
       "4  623495517    False   finalized                   3    12/12/14 12:14   \n",
       "\n",
       "  sentiment  sentiment:confidence                            date  \\\n",
       "0         3                0.6264  Mon Dec 01 19:30:03 +0000 2014   \n",
       "1         3                0.8129  Mon Dec 01 19:43:51 +0000 2014   \n",
       "2         3                1.0000  Mon Dec 01 19:50:28 +0000 2014   \n",
       "3         3                0.5848  Mon Dec 01 20:26:34 +0000 2014   \n",
       "4         3                0.6474  Mon Dec 01 20:29:33 +0000 2014   \n",
       "\n",
       "             id            query   sentiment_gold  \\\n",
       "0  5.400000e+17  #AAPL OR @Apple  3\\nnot_relevant   \n",
       "1  5.400000e+17  #AAPL OR @Apple             3\\n1   \n",
       "2  5.400000e+17  #AAPL OR @Apple                3   \n",
       "3  5.400000e+17  #AAPL OR @Apple             3\\n1   \n",
       "4  5.400000e+17  #AAPL OR @Apple              NaN   \n",
       "\n",
       "                                                text  \n",
       "0  #AAPL:The 10 best Steve Jobs emails ever...htt...  \n",
       "1  RT @JPDesloges: Why AAPL Stock Had a Mini-Flas...  \n",
       "2  My cat only chews @apple cords. Such an #Apple...  \n",
       "3  I agree with @jimcramer that the #IndividualIn...  \n",
       "4       Nobody expects the Spanish Inquisition #AAPL  "
      ]
     },
     "execution_count": 3,
     "metadata": {},
     "output_type": "execute_result"
    }
   ],
   "source": [
    "# Display the first few rows\n",
    "df.head()"
   ]
  },
  {
   "cell_type": "code",
   "execution_count": 4,
   "metadata": {},
   "outputs": [
    {
     "name": "stdout",
     "output_type": "stream",
     "text": [
      "Shape: (3886, 12)\n"
     ]
    }
   ],
   "source": [
    "# Check dataset shape\n",
    "print(\"Shape:\", df.shape)"
   ]
  },
  {
   "cell_type": "code",
   "execution_count": 5,
   "metadata": {},
   "outputs": [
    {
     "data": {
      "text/plain": [
       "_unit_id                3886\n",
       "_golden                    2\n",
       "_unit_state                2\n",
       "_trusted_judgments        19\n",
       "_last_judgment_at        388\n",
       "sentiment                  4\n",
       "sentiment:confidence     654\n",
       "date                    3795\n",
       "id                         3\n",
       "query                      1\n",
       "sentiment_gold             9\n",
       "text                    3219\n",
       "dtype: int64"
      ]
     },
     "execution_count": 5,
     "metadata": {},
     "output_type": "execute_result"
    }
   ],
   "source": [
    "# Check the unique values\n",
    "df.nunique()"
   ]
  },
  {
   "cell_type": "code",
   "execution_count": 6,
   "metadata": {},
   "outputs": [
    {
     "data": {
      "text/plain": [
       "3               2162\n",
       "1               1219\n",
       "5                423\n",
       "not_relevant      82\n",
       "Name: sentiment, dtype: int64"
      ]
     },
     "execution_count": 6,
     "metadata": {},
     "output_type": "execute_result"
    }
   ],
   "source": [
    "df['sentiment'].value_counts()"
   ]
  },
  {
   "cell_type": "code",
   "execution_count": 7,
   "metadata": {},
   "outputs": [
    {
     "data": {
      "image/png": "[encoded data removed]",
      "text/plain": [
       "<Figure size 432x288 with 1 Axes>"
      ]
     },
     "metadata": {
      "needs_background": "light"
     },
     "output_type": "display_data"
    }
   ],
   "source": [
    "# Count sentiment labels\n",
    "df['sentiment'].value_counts().plot(kind='bar', title=\"Sentiment Distribution\")\n",
    "plt.xlabel(\"Sentiment\")\n",
    "plt.ylabel(\"Count\")\n",
    "plt.show()\n"
   ]
  },
  {
   "cell_type": "code",
   "execution_count": 8,
   "metadata": {},
   "outputs": [
    {
     "name": "stdout",
     "output_type": "stream",
     "text": [
      "Sentiment: 3\n",
      "                    Photographing the White House Christmas Decorations With an iPhone 6 by @BrooksKraftFoto  @apple http://t.co/lPDqbJqnV5\n",
      "            #Apple Wants To Make Your Commute Much Easier, According To This New Patent #aapl http://t.co/fKMNHCmwJU http://t.co/wdqAzQowt3\n",
      "RT @OneRepublic: Studio at 45,000 ft.  One outlet,  4 computers.  @Apple we need the batteries of the future NoW!!!! http://t.co/astp9x6KET\n",
      "\n",
      "================================================================================\n",
      "\n",
      "Sentiment: 5\n",
      "                               @MhDaDon @Apple def gotta have it, I don't even like watches\n",
      "fun..fun nights..Post birthday celebration of rfrancoben and @apple. http://t.co/maRHLxgV0F\n",
      "                                         I'm really enjoying GarageBand. @apple #GarageBand\n",
      "\n",
      "================================================================================\n",
      "\n",
      "Sentiment: 1\n",
      "RT @OneRepublic: Studio at 45,000 ft.  One outlet,  4 computers.  @Apple we need the batteries of the future NoW!!!! http://t.co/astp9x6KET\n",
      "       How is 'never' interpreted as 'ask me again annoyingly soon' when iOS apps ask to be rated?  @apple tell your devs never means NEVER\n",
      "                                                                            Thanks @apple for changing yet another fuck into duck...Thanks.\n",
      "\n",
      "================================================================================\n",
      "\n",
      "Sentiment: not_relevant\n",
      "                                                                           @sextsatan @Applebees @Apple APPLEBEES FAVED OMG\n",
      "@Apple John Cantlie has been a prisoner of ISIS for 739 days, show you have not abandoned him. Sign https://t.co/WTn4fuiJ0P\n",
      "                              #Samsung Sale Puts Spotlight On The Buyer, #Corning #GLW  #AAPL #SSNLF http://t.co/oFQx1Go5eL\n",
      "\n",
      "================================================================================\n",
      "\n"
     ]
    }
   ],
   "source": [
    "# Set column width to display full tweets\n",
    "pd.options.display.max_colwidth = None  \n",
    "\n",
    "# Display sample tweets for each sentiment category\n",
    "for sentiment_value in df['sentiment'].unique():\n",
    "    print(f\"Sentiment: {sentiment_value}\")\n",
    "    print(df[df['sentiment'] == sentiment_value]['text'].sample(3, random_state=42).to_string(index=False))\n",
    "    print(\"\\n\" + \"=\"*80 + \"\\n\")\n"
   ]
  },
  {
   "cell_type": "markdown",
   "metadata": {},
   "source": [
    "- Sentiment 3 (Neutral/Mixed): News articles, patents, and general discussions without strong emotion.\n",
    "\n",
    "- Sentiment 5 (Positive): Praising Apple products, expressing excitement.\n",
    "\n",
    "- Sentiment 1 (Negative): Complaints, frustrations, sarcastic remarks.\n",
    "\n",
    "- Sentiment \"not_relevant\": Mentions that may not be related to sentiment analysis, such as general Apple mentions in unrelated contexts."
   ]
  },
  {
   "cell_type": "code",
   "execution_count": 9,
   "metadata": {},
   "outputs": [
    {
     "data": {
      "text/plain": [
       "_unit_id                   0\n",
       "_golden                    0\n",
       "_unit_state                0\n",
       "_trusted_judgments         0\n",
       "_last_judgment_at        103\n",
       "sentiment                  0\n",
       "sentiment:confidence       0\n",
       "date                       0\n",
       "id                         0\n",
       "query                      0\n",
       "sentiment_gold          3783\n",
       "text                       0\n",
       "dtype: int64"
      ]
     },
     "execution_count": 9,
     "metadata": {},
     "output_type": "execute_result"
    }
   ],
   "source": [
    "# Check for missing values\n",
    "df.isnull().sum()"
   ]
  },
  {
   "cell_type": "code",
   "execution_count": 10,
   "metadata": {},
   "outputs": [
    {
     "data": {
      "text/plain": [
       "0"
      ]
     },
     "execution_count": 10,
     "metadata": {},
     "output_type": "execute_result"
    }
   ],
   "source": [
    "# Duplicates\n",
    "df.duplicated().sum()"
   ]
  },
  {
   "cell_type": "code",
   "execution_count": 11,
   "metadata": {},
   "outputs": [
    {
     "data": {
      "image/png": "[encoded data removed]",
      "text/plain": [
       "<Figure size 432x288 with 1 Axes>"
      ]
     },
     "metadata": {
      "needs_background": "light"
     },
     "output_type": "display_data"
    }
   ],
   "source": [
    "# Distribution of Sentiment Confidence Scores\n",
    "sns.histplot(df['sentiment:confidence'], bins=20, kde=True)  \n",
    "plt.xlabel(\"Sentiment Confidence\")  \n",
    "plt.ylabel(\"Count\")  \n",
    "plt.title(\"Distribution of Sentiment Confidence Scores\")  \n",
    "plt.show()\n"
   ]
  },
  {
   "cell_type": "code",
   "execution_count": 12,
   "metadata": {},
   "outputs": [
    {
     "data": {
      "image/png": "[encoded data removed]",
      "text/plain": [
       "<Figure size 432x288 with 1 Axes>"
      ]
     },
     "metadata": {
      "needs_background": "light"
     },
     "output_type": "display_data"
    }
   ],
   "source": [
    "# Tweet Length Distribution\n",
    "df[\"tweet_length\"] = df[\"text\"].str.len()  \n",
    "\n",
    "sns.histplot(df[\"tweet_length\"], bins=20, kde=True)  \n",
    "plt.xlabel(\"Tweet Length\")  \n",
    "plt.ylabel(\"Count\")  \n",
    "plt.title(\"Distribution of Tweet Lengths\")  \n",
    "plt.show()"
   ]
  },
  {
   "cell_type": "code",
   "execution_count": 13,
   "metadata": {},
   "outputs": [
    {
     "name": "stdout",
     "output_type": "stream",
     "text": [
      "Top 10 Hashtags: [('#AAPL', 569), ('#aapl', 466), ('#Apple', 251), ('#DieIn', 152), ('#iPhone', 64), ('#iPhone6', 57), ('#apple', 55), ('#December', 54), ('#trading', 48), ('#Stocks', 39)]\n",
      "Top 10 Words: [('apple', 3957), ('t', 2597), ('co', 2324), ('http', 2269), ('the', 1701), ('aapl', 1385), ('to', 1053), ('in', 870), ('is', 868), ('rt', 848)]\n"
     ]
    }
   ],
   "source": [
    "# Common Words & Hashtags\n",
    "\n",
    "# Join all tweets into one string  \n",
    "all_text = \" \".join(df[\"text\"].dropna())  \n",
    "\n",
    "# Extract hashtags  \n",
    "hashtags = re.findall(r\"#\\w+\", all_text)  \n",
    "hashtag_counts = Counter(hashtags).most_common(10)  \n",
    "\n",
    "# Extract words (excluding stopwords & special characters)  \n",
    "words = re.findall(r\"\\b\\w+\\b\", all_text.lower())  \n",
    "word_counts = Counter(words).most_common(10)  \n",
    "\n",
    "print(\"Top 10 Hashtags:\", hashtag_counts)  \n",
    "print(\"Top 10 Words:\", word_counts)\n"
   ]
  },
  {
   "cell_type": "markdown",
   "metadata": {},
   "source": [
    "## Data Cleaning"
   ]
  }
 ],
 "metadata": {
  "kernelspec": {
   "display_name": "Python 3",
   "language": "python",
   "name": "python3"
  },
  "language_info": {
   "codemirror_mode": {
    "name": "ipython",
    "version": 3
   },
   "file_extension": ".py",
   "mimetype": "text/x-python",
   "name": "python",
   "nbconvert_exporter": "python",
   "pygments_lexer": "ipython3",
   "version": "3.8.5"
  }
 },
 "nbformat": 4,
 "nbformat_minor": 4
}
